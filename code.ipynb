{
  "cells": [
    {
      "cell_type": "markdown",
      "metadata": {
        "id": "mF5_Ygu-GUdE"
      },
      "source": [
        "## Brain Tumor Classification - Image Segmentation\n",
        "\n",
        "Ayesha Aziz\n",
        "<br> DS5500 - Capstone: Applications in Data Science\n",
        "<br> Phase 1 Project"
      ]
    },
    {
      "cell_type": "markdown",
      "metadata": {
        "id": "xeLxyvfqGUdG"
      },
      "source": [
        "**Import Data Libraries**"
      ]
    },
    {
      "cell_type": "code",
      "source": [
        "!rm -r Brain-Tumor-Classification\n",
        "!git clone https://github.com/azizayesha/Brain-Tumor-Classification.git\n",
        "!pip install tensorflow_addons"
      ],
      "metadata": {
        "colab": {
          "base_uri": "https://localhost:8080/"
        },
        "id": "rpf7oN30JhYC",
        "outputId": "bb5d5b48-75ac-4a77-8c94-6a0d21400df5"
      },
      "execution_count": 1,
      "outputs": [
        {
          "output_type": "stream",
          "name": "stdout",
          "text": [
            "Cloning into 'Brain-Tumor-Classification'...\n",
            "remote: Enumerating objects: 3072, done.\u001b[K\n",
            "remote: Counting objects: 100% (28/28), done.\u001b[K\n",
            "remote: Compressing objects: 100% (28/28), done.\u001b[K\n",
            "remote: Total 3072 (delta 3), reused 4 (delta 0), pack-reused 3044\u001b[K\n",
            "Receiving objects: 100% (3072/3072), 81.60 MiB | 32.05 MiB/s, done.\n",
            "Resolving deltas: 100% (6/6), done.\n",
            "Looking in indexes: https://pypi.org/simple, https://us-python.pkg.dev/colab-wheels/public/simple/\n",
            "Requirement already satisfied: tensorflow_addons in /usr/local/lib/python3.7/dist-packages (0.17.1)\n",
            "Requirement already satisfied: packaging in /usr/local/lib/python3.7/dist-packages (from tensorflow_addons) (21.3)\n",
            "Requirement already satisfied: typeguard>=2.7 in /usr/local/lib/python3.7/dist-packages (from tensorflow_addons) (2.7.1)\n",
            "Requirement already satisfied: pyparsing!=3.0.5,>=2.0.2 in /usr/local/lib/python3.7/dist-packages (from packaging->tensorflow_addons) (3.0.9)\n"
          ]
        }
      ]
    },
    {
      "cell_type": "code",
      "execution_count": 2,
      "metadata": {
        "id": "boAkfs79GUdH"
      },
      "outputs": [],
      "source": [
        "import pandas as pd\n",
        "from pandas.core.indexes.base import Index\n",
        "import numpy as np\n",
        "import os\n",
        "import random\n",
        "\n",
        "import tensorflow as tf\n",
        "from tensorflow.keras.preprocessing.image import ImageDataGenerator\n",
        "from tensorflow import keras\n",
        "from tensorflow.keras.models import Sequential\n",
        "from tensorflow.keras.layers import Conv2D, MaxPooling2D, AveragePooling2D, GlobalAveragePooling2D\n",
        "from tensorflow.keras.layers import Input, Dense, Dropout, Flatten, Activation,Concatenate, BatchNormalization\n",
        "from tensorflow.keras.utils import to_categorical\n",
        "from tensorflow.keras.utils import  plot_model\n",
        "from tensorflow.keras.models import Sequential, Model\n",
        "from tensorflow.keras import backend as K\n",
        "from tensorflow.keras.callbacks import EarlyStopping, ReduceLROnPlateau, TensorBoard, ModelCheckpoint\n",
        "import tensorflow_addons as tfa\n",
        "from keras.applications.vgg19 import VGG19\n",
        "from albumentations import (Compose, RandomBrightness, JpegCompression, HueSaturationValue, RandomContrast, \n",
        "HorizontalFlip, Rotate)\n",
        "\n",
        "import cv2\n",
        "import seaborn as sb\n",
        "from PIL import Image\n",
        "from operator import index\n",
        "\n",
        "from sklearn.utils import shuffle\n",
        "from sklearn.model_selection import train_test_split\n",
        "from sklearn.metrics import classification_report, confusion_matrix\n",
        "from sklearn.metrics import fbeta_score\n",
        "\n",
        "from matplotlib import pyplot as plt\n",
        "import matplotlib.image as mpimg"
      ]
    },
    {
      "cell_type": "markdown",
      "metadata": {
        "id": "4dCT2TQLGUdJ"
      },
      "source": [
        "### Helper Functions"
      ]
    },
    {
      "cell_type": "markdown",
      "metadata": {
        "id": "ehGF1WKiGUdK"
      },
      "source": [
        "1. *Load Dataset*"
      ]
    },
    {
      "cell_type": "code",
      "execution_count": 3,
      "metadata": {
        "id": "ze2dJgwkGUdK"
      },
      "outputs": [],
      "source": [
        "def load_dataset(file_path):\n",
        "    \"\"\"\n",
        "    Load images from all tumor sub-folders from training/test folders\n",
        "    :param file_path: path to the training/test folder\n",
        "    :return:\n",
        "        image_data: numpy array with scan_image RGB pixel data\n",
        "        image_labels: numpy array with class labels for images\n",
        "    \"\"\"\n",
        "    image_data = []\n",
        "    image_classes = []\n",
        "\n",
        "    # go over each tumor sub-folder\n",
        "    for tumor_type in os.listdir(file_path):\n",
        "        # read each scan_image file within the folder\n",
        "        for img_file in os.listdir(os.path.join(file_path, tumor_type)):\n",
        "            image_path = os.path.join(file_path, tumor_type, img_file)\n",
        "\n",
        "            # convert BGR format to RGB\n",
        "            scan_image = cv2.imread(image_path, cv2.COLOR_BGR2RGB)\n",
        "\n",
        "            # resize images to the same size, set by IMAGE_DIM\n",
        "            scan_image = cv2.resize(scan_image, (IMAGE_DIM, IMAGE_DIM), interpolation=INTERPOLATION_)\n",
        "\n",
        "            # convert image data into a numpy array of float32 data type\n",
        "            scan_image = np.array(scan_image)\n",
        "            scan_image = scan_image.astype('float32')\n",
        "\n",
        "            # normalize the pixel values between 0-1\n",
        "            scan_image /= 255\n",
        "\n",
        "            # add pixel information to image data list\n",
        "            image_data.append(scan_image)\n",
        "\n",
        "            # add image label to the label list\n",
        "            image_classes.append(tumor_type)\n",
        "\n",
        "    return np.array(image_data), np.array(image_classes)"
      ]
    },
    {
      "cell_type": "markdown",
      "metadata": {
        "id": "IKmgy_HpGUdL"
      },
      "source": [
        "2. *Plot MRI scans*"
      ]
    },
    {
      "cell_type": "code",
      "execution_count": 4,
      "metadata": {
        "id": "ropt0o1mGUdM"
      },
      "outputs": [],
      "source": [
        "def plot_image(file_path):\n",
        "    \"\"\"\n",
        "    Plot 5 random MRI scans from a given folder\n",
        "    :param file_path: path to the folder\n",
        "    :return: subplots of scans\n",
        "    \"\"\"\n",
        "    plt.figure(figsize=(20, 5))\n",
        "    for i in range(5):\n",
        "        file = random.choice(os.listdir(file_path))\n",
        "        img_path = os.path.join(file_path, file)\n",
        "        img = mpimg.imread(img_path)\n",
        "        ax = plt.subplot(1, 5, i + 1)\n",
        "        title = os.path.basename(os.path.normpath(file_path))\n",
        "        ax.title.set_text(title)\n",
        "        plt.imshow(img)\n",
        "    plt.show()\n"
      ]
    },
    {
      "cell_type": "markdown",
      "metadata": {
        "id": "MkYls2CuGUdN"
      },
      "source": [
        "3. *One-Hot-Encoding of labels*"
      ]
    },
    {
      "cell_type": "code",
      "execution_count": 5,
      "metadata": {
        "id": "DapiBokVGUdN"
      },
      "outputs": [],
      "source": [
        "def one_hot_encoding(class_names, y_data, binary=False):\n",
        "    \"\"\"\n",
        "    convert y-label data into numerical encoding\n",
        "    :type binary: bool\n",
        "    :param class_names: class (tumor) names\n",
        "    :param y_data: y_label data\n",
        "    :param binary: if true, the encoding would be 0/1, if false, it would result in multiclass encoding\n",
        "    :return: one-hot-encoded y-labels\n",
        "    \"\"\"\n",
        "    # if binary classification has to be performed\n",
        "    if binary:\n",
        "        # convert multiclass labels to tumor/no_tumor\n",
        "        class_names = list(set(['tumor' if label != \"no_tumor\" else label for label in class_names]))\n",
        "        # change y labels from multiclass to binary tumor/no_tumor\n",
        "        y_data = ['tumor' if label != \"no_tumor\" else label for label in y_data]\n",
        "\n",
        "    # ensuring that 'no_tumor' is at index 0, to assist in indexing later on, as we want it to correspond to label 0\n",
        "    if class_names[0] != 'no_tumor':\n",
        "        no_tumor = class_names.index('no_tumor')\n",
        "        # swap elements in the list so the element at index 0 is no_tumor\n",
        "        class_names[0], class_names[no_tumor] = class_names[no_tumor], class_names[0]\n",
        "\n",
        "    # replace image labels with respective class index\n",
        "    indexed_y_data = []\n",
        "    for img in y_data:\n",
        "        indexed_y_data.append(class_names.index(img))\n",
        "    \n",
        "    if binary:\n",
        "        return np.array(indexed_y_data)\n",
        "    \n",
        "    else:\n",
        "        y_data = to_categorical(indexed_y_data)\n",
        "        return np.array(y_data)"
      ]
    },
    {
      "cell_type": "markdown",
      "source": [
        "4. F1 Score calculation\n",
        "\n",
        "Taken from https://neptune.ai/blog/implementing-the-macro-f1-score-in-keras"
      ],
      "metadata": {
        "id": "7MS5S-DztRoi"
      }
    },
    {
      "cell_type": "code",
      "source": [
        "def f1_score(y_pred, y_true):\n",
        "    def recall_score(y_pred, y_true):\n",
        "        # True Positives\n",
        "        TP = K.sum(K.round(K.clip(y_true * y_pred, 0, 1)))\n",
        "        positives = K.sum(K.round(K.clip(y_true, 0, 1)))\n",
        "        \n",
        "        recall = TP / (positives + K.epsilon())    \n",
        "        return recall \n",
        "    \n",
        "    \n",
        "    def precision_score(y_true, y_pred):\n",
        "        TP = K.sum(K.round(K.clip(y_true * y_pred, 0, 1)))\n",
        "        pred_positives = K.sum(K.round(K.clip(y_pred, 0, 1)))\n",
        "    \n",
        "        precision = TP / (pred_positives + K.epsilon())\n",
        "        return precision \n",
        "    \n",
        "    precision, recall = precision_score(y_pred, y_true), recall_score(y_pred, y_true)\n",
        "    \n",
        "    F1 = 2 * ((precision * recall)/(precision + recall + K.epsilon()))\n",
        "    return F1\n"
      ],
      "metadata": {
        "id": "WQ-svNVJtQqK"
      },
      "execution_count": 6,
      "outputs": []
    },
    {
      "cell_type": "markdown",
      "source": [
        "5. Plot F1 score and Log Loss of a model while training"
      ],
      "metadata": {
        "id": "v9T3SzmzSTu8"
      }
    },
    {
      "cell_type": "code",
      "source": [
        "def plot_f1_loss(model, accuracy=False):\n",
        "    \"\"\"\n",
        "    Plot the Training and Validation F1-score and Loss over epochs of a given model\n",
        "    :param model: given model\n",
        "    :param accuracy: boolean for whether to plot accuracy or not\n",
        "    :return:\n",
        "        time series plots\n",
        "    \"\"\"\n",
        "    f1 = model.history['f1_score']\n",
        "    val_f1 = model.history['val_f1_score']\n",
        "    loss = model.history['loss']\n",
        "    val_loss = model.history['val_loss']\n",
        "\n",
        "    epochs = range(1, len(f1) + 1)\n",
        "\n",
        "    plt.plot(epochs, f1, 'm', label='Training F1 Score')\n",
        "    plt.plot(epochs, val_f1, 'c', label='Validation F1 Score')\n",
        "    plt.title('Training and Validation F1 Score')\n",
        "    plt.legend()\n",
        "\n",
        "    plt.figure()\n",
        "\n",
        "    plt.plot(epochs, loss, 'm', label='Training Loss')\n",
        "    plt.plot(epochs, val_loss, 'c', label='Validation Loss')\n",
        "    plt.title('Training and validation Cross Entropy Loss')\n",
        "    plt.legend()\n",
        "\n",
        "    if accuracy:\n",
        "        acc = model.history['accuracy']\n",
        "        val_acc = model.history['val_accuracy']\n",
        "        plt.figure()\n",
        "        plt.plot(epochs, acc, 'm', label='Training Accuracy')\n",
        "        plt.plot(epochs, val_acc, 'c', label='Validation Accuracy')\n",
        "        plt.title('Training and validation Accuracy')\n",
        "        plt.legend()\n",
        "\n",
        "    plt.show()"
      ],
      "metadata": {
        "id": "u3lKkDK4ST9A"
      },
      "execution_count": 7,
      "outputs": []
    },
    {
      "cell_type": "markdown",
      "metadata": {
        "id": "u0CeBmbVGUdO"
      },
      "source": [
        "#### Load Training and Test Data"
      ]
    },
    {
      "cell_type": "code",
      "execution_count": 10,
      "metadata": {
        "id": "OUkS6qbaGUdP"
      },
      "outputs": [],
      "source": [
        "# Hyperparameters - Binary Classification\n",
        "\n",
        "IMG_ROTATION = 30\n",
        "FLIP_IMG = True\n",
        "IMG_ZOOM = 0.1\n",
        "IMG_HEIGHT_SHIFT = 0.1\n",
        "IMG_WIDTH_SHIFT = 0.1\n",
        "BRIGHTNESS=[0.3,1.5]\n",
        "IMAGE_DIM = 224\n",
        "INTERPOLATION_ = cv2.INTER_AREA\n",
        "VALIDATION_SIZE = 0.1\n",
        "CLASSES = 2\n",
        "\n",
        "RANDOM_SEED = 0\n",
        "BATCH_SIZE = 64\n",
        "EPOCHS = 10\n",
        "LOSS = 'binary_crossentropy'\n",
        "MONITOR_METRIC = [\"val_f1_score\", \"val_accuracy\"]\n",
        "F1_SCORE = tfa.metrics.F1Score(average='macro', num_classes=CLASSES)"
      ]
    },
    {
      "cell_type": "code",
      "execution_count": 11,
      "metadata": {
        "id": "dw53gOaLGUdQ"
      },
      "outputs": [],
      "source": [
        "# load Training and Test data\n",
        "\n",
        "project_folder = \"/content/Brain-Tumor-Classification/data/\"\n",
        "X_train, y_train = load_dataset(project_folder + 'Training')\n",
        "X_test, y_test = load_dataset(project_folder + 'Testing')\n",
        "\n",
        "# create a list of class names\n",
        "labels = set(y_train)\n",
        "labels = list(labels)"
      ]
    },
    {
      "cell_type": "markdown",
      "metadata": {
        "id": "_i9H5M9BGUdQ"
      },
      "source": [
        "#### Exploratory Data Analysis"
      ]
    },
    {
      "cell_type": "code",
      "execution_count": null,
      "metadata": {
        "colab": {
          "base_uri": "https://localhost:8080/"
        },
        "id": "6EryWX9GGUdQ",
        "outputId": "ceb4284c-592c-494f-8c0d-89ed7d170f0d"
      },
      "outputs": [
        {
          "output_type": "stream",
          "name": "stdout",
          "text": [
            "Size of training data: 2870\n",
            "Size of test data: 394\n",
            "Training data shape: (2870, 224, 224, 3)\n",
            "Class names in the dataset:\n",
            "['meningioma_tumor', 'pituitary_tumor', 'glioma_tumor', 'no_tumor']\n"
          ]
        }
      ],
      "source": [
        "print('Size of training data:', len(X_train))\n",
        "print('Size of test data:', len(X_test))\n",
        "print('Training data shape:', X_train.shape)\n",
        "print('Class names in the dataset:')\n",
        "print(labels)"
      ]
    },
    {
      "cell_type": "markdown",
      "metadata": {
        "id": "bVmldIqNGUdR"
      },
      "source": [
        "#### Plot the counts of labels in Test and Train data, and display MRI scans"
      ]
    },
    {
      "cell_type": "code",
      "execution_count": null,
      "metadata": {
        "scrolled": true,
        "id": "aBXpLHfbGUdR"
      },
      "outputs": [],
      "source": [
        "# plot tumor counts\n",
        "sb.countplot(data=pd.DataFrame(y_train, columns=['labels']), x = 'labels', palette=\"light:#5A9\").set(title='Training labels')\n",
        "plt.show()\n",
        "sb.countplot(data=pd.DataFrame(y_test, columns=['labels']), x = 'labels', palette=\"light:#5A9\").set(title='Test labels')\n",
        "plt.show()"
      ]
    },
    {
      "cell_type": "code",
      "execution_count": null,
      "metadata": {
        "id": "U1aBvPOxGUdS"
      },
      "outputs": [],
      "source": [
        "# Plot 5 random MRI scans for tumor/no tumor data\n",
        "plot_image(project_folder + 'Testing/glioma_tumor')\n",
        "plot_image(project_folder +'Testing/pituitary_tumor')\n",
        "plot_image(project_folder + 'Testing/meningioma_tumor')\n",
        "plot_image(project_folder + 'Testing/no_tumor')"
      ]
    },
    {
      "cell_type": "markdown",
      "metadata": {
        "id": "b5MXtV6aGUdT"
      },
      "source": [
        "Shuffle, one-hot-encode and split the dataset for both binary and multiclass classification\n"
      ]
    },
    {
      "cell_type": "code",
      "execution_count": 12,
      "metadata": {
        "id": "9JvoAynAGUdT"
      },
      "outputs": [],
      "source": [
        "# shuffle training data\n",
        "X_train, y_train = shuffle(X_train, y_train, random_state=RANDOM_SEED)\n",
        "\n",
        "# convert y_train and y_test into one-hot-encoded data for binary classification\n",
        "binary_y_train = one_hot_encoding(labels, y_train, binary=True)\n",
        "binary_y_test = one_hot_encoding(labels, y_test, binary=True)\n",
        "\n",
        "# convert y_train and y_test into one-hot-encoded data for multiclass classification\n",
        "multi_y_train = one_hot_encoding(labels, y_train, binary=False)\n",
        "multi_y_test = one_hot_encoding(labels, y_test, binary=False)\n",
        "\n",
        "# split training data into training and validation - binary \n",
        "binary_X_train, binary_X_val, binary_y_train, binary_y_val = train_test_split(X_train, binary_y_train, test_size=VALIDATION_SIZE, random_state=RANDOM_SEED)\n",
        "\n",
        "# split training data into training and validation - multi \n",
        "multi_X_train, multi_X_val, multi_y_train, multi_y_val = train_test_split(X_train, multi_y_train, test_size=VALIDATION_SIZE, random_state=RANDOM_SEED)"
      ]
    },
    {
      "cell_type": "code",
      "execution_count": null,
      "metadata": {
        "colab": {
          "base_uri": "https://localhost:8080/"
        },
        "id": "EVV5Ue5bGUdT",
        "outputId": "87ed1580-a4e0-480e-f30c-44811d35a626"
      },
      "outputs": [
        {
          "output_type": "execute_result",
          "data": {
            "text/plain": [
              "((2583, 224, 224, 3), (287, 224, 224, 3), (394,), (2583,), (287,), (394,))"
            ]
          },
          "metadata": {},
          "execution_count": 23
        }
      ],
      "source": [
        "binary_X_train.shape, binary_X_val.shape,  binary_y_test.shape, binary_y_train.shape"
      ]
    },
    {
      "cell_type": "code",
      "source": [
        "multi_X_train.shape, multi_X_val.shape, X_test.shape, multi_y_test.shape"
      ],
      "metadata": {
        "id": "CN6pVQEUvuns",
        "outputId": "c68ecd45-5eb0-469e-c7c9-0af95733bcf3",
        "colab": {
          "base_uri": "https://localhost:8080/"
        }
      },
      "execution_count": null,
      "outputs": [
        {
          "output_type": "execute_result",
          "data": {
            "text/plain": [
              "((2583, 224, 224, 3), (287, 224, 224, 3), (394, 224, 224, 3), (394, 4))"
            ]
          },
          "metadata": {},
          "execution_count": 14
        }
      ]
    },
    {
      "cell_type": "markdown",
      "metadata": {
        "id": "5dLWD_XvGUdU"
      },
      "source": [
        "## Binary Classification \n",
        "\n",
        "*   Tumor/No Tumor Segmentation"
      ]
    },
    {
      "cell_type": "markdown",
      "metadata": {
        "id": "2pC_4YqtGUdU"
      },
      "source": [
        "#### Data Augmentation"
      ]
    },
    {
      "cell_type": "code",
      "execution_count": 13,
      "metadata": {
        "id": "y1dXxPwvGUdV"
      },
      "outputs": [],
      "source": [
        "data_augmentation = ImageDataGenerator(\n",
        "    # randomly rotate images in the range 0-180\n",
        "    rotation_range=IMG_ROTATION,\n",
        "    # randomly enlarge images\n",
        "    zoom_range=IMG_ZOOM,\n",
        "    # randomly shift images horizontally\n",
        "    width_shift_range=IMG_WIDTH_SHIFT,\n",
        "    # randomly shift images vertically\n",
        "    height_shift_range=IMG_HEIGHT_SHIFT,\n",
        "    # randomly flip images vertically\n",
        "    vertical_flip=FLIP_IMG,\n",
        "    # brightness range\n",
        "    brightness_range=BRIGHTNESS)\n"
      ]
    },
    {
      "cell_type": "code",
      "source": [
        "# Augment training and validation dataset\n",
        "\n",
        "train_augmented = data_augmentation.flow(binary_X_train, binary_y_train, seed=RANDOM_SEED)\n",
        "val_augmented = data_augmentation.flow(binary_X_val, binary_y_val, seed=RANDOM_SEED)"
      ],
      "metadata": {
        "id": "_FHCJkHLJpWS"
      },
      "execution_count": 14,
      "outputs": []
    },
    {
      "cell_type": "markdown",
      "source": [
        "Plot Image Augmentation results on a sample image from the dataset"
      ],
      "metadata": {
        "id": "yU6UMzsWNLp-"
      }
    },
    {
      "cell_type": "code",
      "source": [
        "# take a sample image from the dataset and perform image augmentation on it\n",
        "\n",
        "sample = X_train[1]\n",
        "sample = np.expand_dims(sample, 0)\n",
        "\n",
        "sample_aug = data_augmentation.flow(sample, batch_size=1)\n",
        "\n",
        "# generate 12 samples and plot\n",
        "for i in range(9):\n",
        "\n",
        "\tplt.subplot(330 + 1 + i)\n",
        "\t# generate images\n",
        "\tbatch = sample_aug.next()\n",
        "\t# convert to unsigned integers for plotting\n",
        "\timage = batch[0].astype('uint8')\n",
        "\t# plot the augmented images\n",
        "\tplt.imshow(image)\n",
        "\n",
        "plt.show()"
      ],
      "metadata": {
        "colab": {
          "base_uri": "https://localhost:8080/",
          "height": 269
        },
        "id": "-UhPiSK3Khdg",
        "outputId": "cc7800a1-0dbd-47e3-fa52-595c12764b89"
      },
      "execution_count": null,
      "outputs": [
        {
          "output_type": "display_data",
          "data": {
            "text/plain": [
              "<Figure size 432x288 with 9 Axes>"
            ],
            "image/png": "[encoded data removed]"
          },
          "metadata": {
            "needs_background": "light"
          }
        }
      ]
    },
    {
      "cell_type": "markdown",
      "metadata": {
        "id": "VeuAuPgtGUdV"
      },
      "source": [
        "Checkpoints during training of models"
      ]
    },
    {
      "cell_type": "code",
      "execution_count": 19,
      "metadata": {
        "id": "8yni-lqpGUdV"
      },
      "outputs": [],
      "source": [
        "def callbacks_(model_name, MONITOR_METRIC):\n",
        "\n",
        "    # stop if no improvements made after 3 epochs (patience) and save the best model\n",
        "    early_stopping = EarlyStopping(patience=3, restore_best_weights=True)\n",
        "\n",
        "    # for possible visualization\n",
        "    tensorboard = TensorBoard(log_dir='logs')\n",
        "\n",
        "    # save the best model\n",
        "    checkpoint = ModelCheckpoint(model_name + \".h5\", monitor=MONITOR_METRIC, save_best_only=False, mode=\"max\", verbose=1)\n",
        "\n",
        "    # change the learning rate if no increase/decrease is seen in the model metrics\n",
        "    reduce_lr = ReduceLROnPlateau(monitor = MONITOR_METRIC, factor = 0.3, patience = 3, min_delta = 0.001, mode='max',verbose=1)\n",
        "\n",
        "    return early_stopping, tensorboard, checkpoint, reduce_lr"
      ]
    },
    {
      "cell_type": "markdown",
      "metadata": {
        "id": "0uWBS8WXGUdW"
      },
      "source": [
        "#### Model 1: CNN with Multiple Hidden Layers \n",
        "\n",
        "Specifications:\n",
        "\n",
        "    - No data augmentation\n",
        "    - Sample size: Full training set, 287 validation samples, \n",
        "    - Loss function: Binary cross-entropy\n",
        "    - Evaluation Metric: Accuracy/F1 Score\n",
        "    - Optimizer: Adam\n",
        "    - Epochs: 10\n",
        "    - Batch Size: 64"
      ]
    },
    {
      "cell_type": "code",
      "execution_count": 20,
      "metadata": {
        "id": "-1DGIZ_WGUdW"
      },
      "outputs": [],
      "source": [
        "cnn_model1 = Sequential()\n",
        "\n",
        "# input layer\n",
        "cnn_model1.add(Conv2D(64, kernel_size=(3, 3), padding='same',input_shape=(IMAGE_DIM, IMAGE_DIM, 3))) \n",
        "cnn_model1.add(Activation('relu'))\n",
        "cnn_model1.add(BatchNormalization())\n",
        "\n",
        "# first layer\n",
        "cnn_model1.add(Conv2D(64, (3, 3))) \n",
        "cnn_model1.add(Activation('relu'))\n",
        "cnn_model1.add(MaxPooling2D(pool_size=(2, 2))) \n",
        "cnn_model1.add(BatchNormalization())\n",
        "cnn_model1.add(Dropout(0.35))\n",
        "\n",
        "# third layer\n",
        "cnn_model1.add(Conv2D(64, (3, 3), padding='same'))\n",
        "cnn_model1.add(Activation('relu'))\n",
        "cnn_model1.add(BatchNormalization()) \n",
        "\n",
        "# fourth layer\n",
        "cnn_model1.add(Conv2D(64, (3, 3)))\n",
        "cnn_model1.add(Activation('relu'))\n",
        "cnn_model1.add(MaxPooling2D(pool_size=(2, 2))) \n",
        "cnn_model1.add(BatchNormalization())\n",
        "cnn_model1.add(Dropout(0.35)) \n",
        "\n",
        "# fifth layer\n",
        "cnn_model1.add(Conv2D(64, (3, 3), padding='same')) \n",
        "cnn_model1.add(Activation('relu'))\n",
        "cnn_model1.add(BatchNormalization())\n",
        "\n",
        "cnn_model1.add(Flatten()) \n",
        "cnn_model1.add(Dropout(0.5)) \n",
        "cnn_model1.add(Dense(128, activation='relu')) \n",
        "cnn_model1.add(BatchNormalization())\n",
        "cnn_model1.add(Dense(1, activation= 'sigmoid')) \n",
        "\n",
        "#cnn_model1.summary()"
      ]
    },
    {
      "cell_type": "code",
      "execution_count": null,
      "metadata": {
        "id": "x1eZrhseGUdW"
      },
      "outputs": [],
      "source": [
        "plot_model(\n",
        "    cnn_model1,\n",
        "    to_file=\"cnn1.png\",\n",
        "    show_shapes=True,\n",
        "    show_layer_names=True\n",
        ")"
      ]
    },
    {
      "cell_type": "code",
      "execution_count": 21,
      "metadata": {
        "id": "RFzUdcimGUdX"
      },
      "outputs": [],
      "source": [
        "cnn_model1.compile(optimizer='adam',\n",
        "             loss= tf.losses.BinaryFocalCrossentropy() ,\n",
        "             metrics=[f1_score,'accuracy'])"
      ]
    },
    {
      "cell_type": "code",
      "execution_count": null,
      "metadata": {
        "id": "4pwDFCAKGUdX"
      },
      "outputs": [],
      "source": [
        "model1 = cnn_model1.fit(binary_X_train, binary_y_train, \n",
        "                         verbose=1, \n",
        "                         validation_data=(binary_X_val, binary_y_val),\n",
        "                         epochs=EPOCHS,\n",
        "                         callbacks=[callbacks_('model1', MONITOR_METRIC)],\n",
        "                         batch_size=BATCH_SIZE)"
      ]
    },
    {
      "cell_type": "code",
      "execution_count": null,
      "metadata": {
        "id": "dMvBfSbSGUdY"
      },
      "outputs": [],
      "source": [
        "cnn_model1.save('cnn1_model1.h5')\n",
        "\n",
        "loss1, accuracy1 = cnn_model1.evaluate(X_test, y_test)\n",
        "print('Test loss and accuracy: ', loss1, accuracy1)"
      ]
    },
    {
      "cell_type": "code",
      "execution_count": null,
      "metadata": {
        "colab": {
          "base_uri": "https://localhost:8080/"
        },
        "id": "q9V6mDAqGUdY",
        "outputId": "696f4e2f-0c05-4b4a-a851-d9472c58cc39"
      },
      "outputs": [
        {
          "output_type": "stream",
          "name": "stdout",
          "text": [
            "              precision    recall  f1-score   support\n",
            "\n",
            "           0       0.94      0.39      0.56       289\n",
            "           1       0.36      0.93      0.52       105\n",
            "\n",
            "    accuracy                           0.54       394\n",
            "   macro avg       0.65      0.66      0.54       394\n",
            "weighted avg       0.79      0.54      0.55       394\n",
            "\n"
          ]
        }
      ],
      "source": [
        "pred = cnn_model1.predict(X_test)\n",
        "pred = np.argmax(pred,axis=1)\n",
        "y_test_new = np.argmax(y_test, axis=1)\n",
        "print(classification_report(y_test_new,pred))"
      ]
    },
    {
      "cell_type": "markdown",
      "source": [
        "Plot out the model metrics for training/validation data against epochs"
      ],
      "metadata": {
        "id": "E4p-f4zj5MWO"
      }
    },
    {
      "cell_type": "code",
      "source": [
        "f1 = model1.history['f1_score']\n",
        "val_f1 = model1.history['val_f1_score']\n",
        "loss = model1.history['loss']\n",
        "val_loss = model1.history['val_loss']\n",
        "\n",
        "epochs = range(1, len(f1) + 1)\n",
        "\n",
        "plt.plot(epochs, f1, 'r', label='Training f1_score')\n",
        "plt.plot(epochs, val_f1, 'b', label='Validation f1_score')\n",
        "plt.title('Training and Validation F1 Score')\n",
        "plt.legend()\n",
        "\n",
        "plt.figure()\n",
        "\n",
        "plt.plot(epochs, loss, 'r', label='Training loss')\n",
        "plt.plot(epochs, val_loss, 'b', label='Validation loss')\n",
        "plt.title('Training and validation loss')\n",
        "plt.legend()\n",
        "\n",
        "plt.show()"
      ],
      "metadata": {
        "colab": {
          "base_uri": "https://localhost:8080/",
          "height": 545
        },
        "id": "M__O6SHZ5SiH",
        "outputId": "b6f4b4cb-8706-4b0b-a2ae-75306b1bf71d"
      },
      "execution_count": null,
      "outputs": [
        {
          "output_type": "display_data",
          "data": {
            "text/plain": [
              "<Figure size 432x288 with 1 Axes>"
            ],
            "image/png": "[encoded data removed]"
          },
          "metadata": {
            "needs_background": "light"
          }
        },
        {
          "output_type": "display_data",
          "data": {
            "text/plain": [
              "<Figure size 432x288 with 1 Axes>"
            ],
            "image/png": "[encoded data removed]"
          },
          "metadata": {
            "needs_background": "light"
          }
        }
      ]
    },
    {
      "cell_type": "markdown",
      "metadata": {
        "id": "0nINCMGyGUdZ"
      },
      "source": [
        "#### Model 2: CNN with Four Layers\n",
        "\n",
        "Specifications:\n",
        "\n",
        "    - Data augmentation \n",
        "    - Binary cross-entropy used as the loss function\n",
        "    - Accuracy used as the metric\n",
        "    - batch size: 35\n",
        "    - Optimizer: Adam"
      ]
    },
    {
      "cell_type": "code",
      "execution_count": null,
      "metadata": {
        "colab": {
          "base_uri": "https://localhost:8080/"
        },
        "id": "4csbp2ZsGUdZ",
        "outputId": "4e485ed0-70a5-4f9d-c880-f1aed719e187"
      },
      "outputs": [
        {
          "output_type": "stream",
          "name": "stderr",
          "text": [
            "/usr/local/lib/python3.7/dist-packages/ipykernel_launcher.py:6: UserWarning: `Model.fit_generator` is deprecated and will be removed in a future version. Please use `Model.fit`, which supports generators.\n",
            "  \n"
          ]
        },
        {
          "output_type": "stream",
          "name": "stdout",
          "text": [
            "Epoch 1/10\n",
            "40/40 [==============================] - ETA: 0s - loss: 0.2102 - f1_score: 0.5905 \n",
            "Epoch 1: val_f1_score improved from -inf to 0.26586, saving model to cnn_layer1.h5\n",
            "40/40 [==============================] - 618s 15s/step - loss: 0.2102 - f1_score: 0.5905 - val_loss: 9.6413 - val_f1_score: 0.2659 - lr: 0.0010\n",
            "Epoch 2/10\n",
            "40/40 [==============================] - ETA: 0s - loss: 0.1307 - f1_score: 0.6081 \n",
            "Epoch 2: val_f1_score improved from 0.26586 to 0.46922, saving model to cnn_layer1.h5\n",
            "40/40 [==============================] - 623s 16s/step - loss: 0.1307 - f1_score: 0.6081 - val_loss: 0.6992 - val_f1_score: 0.4692 - lr: 0.0010\n",
            "Epoch 3/10\n",
            "40/40 [==============================] - ETA: 0s - loss: 0.1047 - f1_score: 0.6629 \n",
            "Epoch 3: val_f1_score improved from 0.46922 to 0.52817, saving model to cnn_layer1.h5\n",
            "40/40 [==============================] - 617s 15s/step - loss: 0.1047 - f1_score: 0.6629 - val_loss: 0.2917 - val_f1_score: 0.5282 - lr: 0.0010\n",
            "Epoch 4/10\n",
            "40/40 [==============================] - ETA: 0s - loss: 0.0902 - f1_score: 0.6787 \n",
            "Epoch 4: val_f1_score improved from 0.52817 to 0.53333, saving model to cnn_layer1.h5\n",
            "40/40 [==============================] - 614s 15s/step - loss: 0.0902 - f1_score: 0.6787 - val_loss: 0.1540 - val_f1_score: 0.5333 - lr: 0.0010\n",
            "Epoch 5/10\n",
            "40/40 [==============================] - ETA: 0s - loss: 0.0782 - f1_score: 0.7307 \n",
            "Epoch 5: val_f1_score improved from 0.53333 to 0.63668, saving model to cnn_layer1.h5\n",
            "40/40 [==============================] - 626s 16s/step - loss: 0.0782 - f1_score: 0.7307 - val_loss: 0.1690 - val_f1_score: 0.6367 - lr: 0.0010\n",
            "Epoch 6/10\n",
            "40/40 [==============================] - ETA: 0s - loss: 0.0830 - f1_score: 0.7271 \n",
            "Epoch 6: val_f1_score did not improve from 0.63668\n",
            "40/40 [==============================] - 613s 15s/step - loss: 0.0830 - f1_score: 0.7271 - val_loss: 0.1309 - val_f1_score: 0.5719 - lr: 0.0010\n",
            "Epoch 7/10\n",
            "40/40 [==============================] - ETA: 0s - loss: 0.0730 - f1_score: 0.7748 \n",
            "Epoch 7: val_f1_score did not improve from 0.63668\n",
            "40/40 [==============================] - 623s 16s/step - loss: 0.0730 - f1_score: 0.7748 - val_loss: 0.0532 - val_f1_score: 0.5466 - lr: 0.0010\n",
            "Epoch 8/10\n",
            "40/40 [==============================] - ETA: 0s - loss: 0.0723 - f1_score: 0.7592 \n",
            "Epoch 8: val_f1_score did not improve from 0.63668\n",
            "\n",
            "Epoch 8: ReduceLROnPlateau reducing learning rate to 0.0003000000142492354.\n",
            "40/40 [==============================] - 657s 16s/step - loss: 0.0723 - f1_score: 0.7592 - val_loss: 0.0995 - val_f1_score: 0.5862 - lr: 0.0010\n",
            "Epoch 9/10\n",
            "40/40 [==============================] - ETA: 0s - loss: 0.0610 - f1_score: 0.7951 \n",
            "Epoch 9: val_f1_score improved from 0.63668 to 0.64807, saving model to cnn_layer1.h5\n",
            "40/40 [==============================] - 658s 16s/step - loss: 0.0610 - f1_score: 0.7951 - val_loss: 0.1289 - val_f1_score: 0.6481 - lr: 3.0000e-04\n",
            "Epoch 10/10\n",
            "40/40 [==============================] - ETA: 0s - loss: 0.0653 - f1_score: 0.8040 \n",
            "Epoch 10: val_f1_score improved from 0.64807 to 0.71186, saving model to cnn_layer1.h5\n",
            "40/40 [==============================] - 625s 16s/step - loss: 0.0653 - f1_score: 0.8040 - val_loss: 0.0659 - val_f1_score: 0.7119 - lr: 3.0000e-04\n"
          ]
        }
      ],
      "source": [
        "model2 = cnn_model1.fit_generator(train_augmented,\n",
        "                            epochs=EPOCHS,\n",
        "                            steps_per_epoch=X_train.shape[0]//BATCH_SIZE,\n",
        "                            validation_data=val_augmented,\n",
        "                            validation_steps=X_val.shape[0]//BATCH_SIZE,\n",
        "                            callbacks=[early_stopping, checkpoint, tensorboard, reduce_lr])\n",
        "\n"
      ]
    },
    {
      "cell_type": "code",
      "execution_count": null,
      "metadata": {
        "scrolled": true,
        "colab": {
          "base_uri": "https://localhost:8080/"
        },
        "id": "bKyZ6KsSGUdZ",
        "outputId": "9ca5f598-76f6-4410-a2ce-41737d56ef5b"
      },
      "outputs": [
        {
          "output_type": "stream",
          "name": "stdout",
          "text": [
            "13/13 [==============================] - 40s 3s/step - loss: 0.1679 - f1_score: 0.4231\n",
            "Test loss and accuracy:  0.16788385808467865 0.4231332242488861\n"
          ]
        }
      ],
      "source": [
        "cnn_model1.save('cnn1_model2.h5')\n",
        "\n",
        "loss2, f1_model2 = cnn_model1.evaluate(X_test, y_test)\n",
        "print('Test loss and F1 score: ', loss2, f1_model2)"
      ]
    },
    {
      "cell_type": "code",
      "execution_count": null,
      "metadata": {
        "colab": {
          "base_uri": "https://localhost:8080/"
        },
        "id": "6vdJythEGUda",
        "outputId": "379dd884-86ec-495b-b227-0666a964733b"
      },
      "outputs": [
        {
          "output_type": "stream",
          "name": "stdout",
          "text": [
            "              precision    recall  f1-score   support\n",
            "\n",
            "           0       0.73      1.00      0.85       289\n",
            "           1       0.00      0.00      0.00       105\n",
            "\n",
            "    accuracy                           0.73       394\n",
            "   macro avg       0.37      0.50      0.42       394\n",
            "weighted avg       0.54      0.73      0.62       394\n",
            "\n"
          ]
        },
        {
          "output_type": "stream",
          "name": "stderr",
          "text": [
            "/usr/local/lib/python3.7/dist-packages/sklearn/metrics/_classification.py:1318: UndefinedMetricWarning: Precision and F-score are ill-defined and being set to 0.0 in labels with no predicted samples. Use `zero_division` parameter to control this behavior.\n",
            "  _warn_prf(average, modifier, msg_start, len(result))\n",
            "/usr/local/lib/python3.7/dist-packages/sklearn/metrics/_classification.py:1318: UndefinedMetricWarning: Precision and F-score are ill-defined and being set to 0.0 in labels with no predicted samples. Use `zero_division` parameter to control this behavior.\n",
            "  _warn_prf(average, modifier, msg_start, len(result))\n",
            "/usr/local/lib/python3.7/dist-packages/sklearn/metrics/_classification.py:1318: UndefinedMetricWarning: Precision and F-score are ill-defined and being set to 0.0 in labels with no predicted samples. Use `zero_division` parameter to control this behavior.\n",
            "  _warn_prf(average, modifier, msg_start, len(result))\n"
          ]
        }
      ],
      "source": [
        "# get predictions from the test set\n",
        "\n",
        "pred = cnn_model1.predict(X_test)\n",
        "pred = np.argmax(pred,axis=1)\n",
        "y_test_new = np.argmax(y_test, axis=1)\n",
        "print(classification_report(y_test_new,pred))"
      ]
    },
    {
      "cell_type": "code",
      "source": [
        "# plot the model's f1-scores and loss\n",
        "plot_f1_loss(model2)"
      ],
      "metadata": {
        "colab": {
          "base_uri": "https://localhost:8080/",
          "height": 545
        },
        "id": "imLO3h0x3H_F",
        "outputId": "af5a7086-317a-48b4-b357-78b54c1b11bc"
      },
      "execution_count": null,
      "outputs": [
        {
          "output_type": "display_data",
          "data": {
            "text/plain": [
              "<Figure size 432x288 with 1 Axes>"
            ],
            "image/png": "[encoded data removed]"
          },
          "metadata": {
            "needs_background": "light"
          }
        },
        {
          "output_type": "display_data",
          "data": {
            "text/plain": [
              "<Figure size 432x288 with 1 Axes>"
            ],
            "image/png": "[encoded data removed]"
          },
          "metadata": {
            "needs_background": "light"
          }
        }
      ]
    },
    {
      "cell_type": "markdown",
      "source": [
        "###Model 3: CNN with VGG19"
      ],
      "metadata": {
        "id": "BFW3OXUDUjpT"
      }
    },
    {
      "cell_type": "code",
      "source": [
        "vgg19_ = VGG19(weights='imagenet', input_shape=(IMAGE_DIM,IMAGE_DIM,3), include_top=False) \n",
        "\n",
        "vgg19_model = Sequential()\n",
        "vgg19_model.add(vgg19_)\n",
        "vgg19_model.add(Flatten())\n",
        "vgg19_model.add(BatchNormalization())\n",
        "vgg19_model.add(Dense(256, kernel_initializer='he_uniform'))\n",
        "vgg19_model.add(BatchNormalization())\n",
        "vgg19_model.add(Activation('relu'))\n",
        "vgg19_model.add(Dropout(0.3))\n",
        "vgg19_model.add(Dense(2, activation='softmax'))\n",
        "\n",
        "# not training the model layers again\n",
        "for layer in vgg19_model.layers:\n",
        "    layer.trainable = False\n",
        "\n",
        "    \n",
        "vgg19_model.compile(\n",
        "    loss=LOSS,\n",
        "    optimizer='adam',\n",
        "    metrics=['accuracy' , 'AUC', F1_SCORE]\n",
        ")\n",
        "\n",
        "vgg19_model.summary()"
      ],
      "metadata": {
        "colab": {
          "base_uri": "https://localhost:8080/"
        },
        "id": "U0Fb5WyqUpSr",
        "outputId": "ff7a5107-40c5-4c27-ad5b-6f197c3b47a8"
      },
      "execution_count": null,
      "outputs": [
        {
          "output_type": "stream",
          "name": "stdout",
          "text": [
            "Model: \"sequential_5\"\n",
            "_________________________________________________________________\n",
            " Layer (type)                Output Shape              Param #   \n",
            "=================================================================\n",
            " vgg19 (Functional)          (None, 7, 7, 512)         20024384  \n",
            "                                                                 \n",
            " flatten_5 (Flatten)         (None, 25088)             0         \n",
            "                                                                 \n",
            " batch_normalization_14 (Bat  (None, 25088)            100352    \n",
            " chNormalization)                                                \n",
            "                                                                 \n",
            " dense_10 (Dense)            (None, 256)               6422784   \n",
            "                                                                 \n",
            " batch_normalization_15 (Bat  (None, 256)              1024      \n",
            " chNormalization)                                                \n",
            "                                                                 \n",
            " activation_9 (Activation)   (None, 256)               0         \n",
            "                                                                 \n",
            " dropout_7 (Dropout)         (None, 256)               0         \n",
            "                                                                 \n",
            " dense_11 (Dense)            (None, 2)                 514       \n",
            "                                                                 \n",
            "=================================================================\n",
            "Total params: 26,549,058\n",
            "Trainable params: 0\n",
            "Non-trainable params: 26,549,058\n",
            "_________________________________________________________________\n"
          ]
        }
      ]
    },
    {
      "cell_type": "code",
      "source": [
        "early_stopping, tensorboard, checkpoint, reduce_lr = callbacks(\"vgg19\", MONITOR_METRIC)\n",
        "\n",
        "model3 = vgg19_model.fit_generator(train_augmented,\n",
        "                            epochs=EPOCHS,\n",
        "                            steps_per_epoch=X_train.shape[0]//BATCH_SIZE,\n",
        "                            validation_data=val_augmented,\n",
        "                            validation_steps=X_val.shape[0]//BATCH_SIZE,\n",
        "                            callbacks=[early_stopping, checkpoint, tensorboard, reduce_lr])"
      ],
      "metadata": {
        "colab": {
          "base_uri": "https://localhost:8080/"
        },
        "id": "unxOrLTtnQc8",
        "outputId": "3493bdd2-d64a-4bc7-9366-c48d48db66b5"
      },
      "execution_count": null,
      "outputs": [
        {
          "output_type": "stream",
          "name": "stderr",
          "text": [
            "/usr/local/lib/python3.7/dist-packages/ipykernel_launcher.py:8: UserWarning: `Model.fit_generator` is deprecated and will be removed in a future version. Please use `Model.fit`, which supports generators.\n",
            "  \n"
          ]
        },
        {
          "output_type": "stream",
          "name": "stdout",
          "text": [
            "Epoch 1/10\n",
            "40/40 [==============================] - ETA: 0s - loss: 1.9417 - accuracy: 0.6516 - auc: 0.6944 - f1_score: 0.5072 \n",
            "Epoch 1: val_f1_score improved from -inf to 0.54148, saving model to vgg19.h5\n",
            "40/40 [==============================] - 816s 20s/step - loss: 1.9417 - accuracy: 0.6516 - auc: 0.6944 - f1_score: 0.5072 - val_loss: 1.4999 - val_accuracy: 0.7031 - val_auc: 0.7283 - val_f1_score: 0.5415 - lr: 0.0010\n",
            "Epoch 2/10\n",
            "40/40 [==============================] - ETA: 0s - loss: 1.9724 - accuracy: 0.6507 - auc: 0.6929 - f1_score: 0.5088 \n",
            "Epoch 2: val_f1_score improved from 0.54148 to 0.58033, saving model to vgg19.h5\n",
            "40/40 [==============================] - 806s 20s/step - loss: 1.9724 - accuracy: 0.6507 - auc: 0.6929 - f1_score: 0.5088 - val_loss: 1.3528 - val_accuracy: 0.6953 - val_auc: 0.7563 - val_f1_score: 0.5803 - lr: 0.0010\n",
            "Epoch 3/10\n",
            "40/40 [==============================] - ETA: 0s - loss: 1.9088 - accuracy: 0.6869 - auc: 0.7215 - f1_score: 0.5256 \n",
            "Epoch 3: val_f1_score did not improve from 0.58033\n",
            "40/40 [==============================] - 797s 20s/step - loss: 1.9088 - accuracy: 0.6869 - auc: 0.7215 - f1_score: 0.5256 - val_loss: 1.6694 - val_accuracy: 0.6875 - val_auc: 0.7099 - val_f1_score: 0.5029 - lr: 0.0010\n",
            "Epoch 4/10\n",
            "40/40 [==============================] - ETA: 0s - loss: 1.8822 - accuracy: 0.6664 - auc: 0.7114 - f1_score: 0.5036 \n",
            "Epoch 4: val_f1_score did not improve from 0.58033\n",
            "40/40 [==============================] - 811s 20s/step - loss: 1.8822 - accuracy: 0.6664 - auc: 0.7114 - f1_score: 0.5036 - val_loss: 1.4628 - val_accuracy: 0.7188 - val_auc: 0.7513 - val_f1_score: 0.5526 - lr: 0.0010\n",
            "Epoch 5/10\n",
            "40/40 [==============================] - ETA: 0s - loss: 1.9903 - accuracy: 0.6436 - auc: 0.6850 - f1_score: 0.4971 \n",
            "Epoch 5: val_f1_score improved from 0.58033 to 0.66214, saving model to vgg19.h5\n",
            "40/40 [==============================] - 804s 20s/step - loss: 1.9903 - accuracy: 0.6436 - auc: 0.6850 - f1_score: 0.4971 - val_loss: 1.2272 - val_accuracy: 0.7812 - val_auc: 0.8055 - val_f1_score: 0.6621 - lr: 0.0010\n",
            "Epoch 6/10\n",
            "40/40 [==============================] - ETA: 0s - loss: 2.0088 - accuracy: 0.6617 - auc: 0.7093 - f1_score: 0.5058 \n",
            "Epoch 6: val_f1_score did not improve from 0.66214\n",
            "40/40 [==============================] - 886s 22s/step - loss: 2.0088 - accuracy: 0.6617 - auc: 0.7093 - f1_score: 0.5058 - val_loss: 1.5616 - val_accuracy: 0.6953 - val_auc: 0.7620 - val_f1_score: 0.5803 - lr: 0.0010\n",
            "Epoch 7/10\n",
            "40/40 [==============================] - ETA: 0s - loss: 1.9285 - accuracy: 0.6774 - auc: 0.7141 - f1_score: 0.5387 \n",
            "Epoch 7: val_f1_score did not improve from 0.66214\n",
            "40/40 [==============================] - 803s 20s/step - loss: 1.9285 - accuracy: 0.6774 - auc: 0.7141 - f1_score: 0.5387 - val_loss: 1.3775 - val_accuracy: 0.7344 - val_auc: 0.7859 - val_f1_score: 0.5775 - lr: 0.0010\n",
            "Epoch 8/10\n",
            "40/40 [==============================] - ETA: 0s - loss: 2.0625 - accuracy: 0.6554 - auc: 0.6825 - f1_score: 0.5108 \n",
            "Epoch 8: val_f1_score did not improve from 0.66214\n",
            "\n",
            "Epoch 8: ReduceLROnPlateau reducing learning rate to 0.0003000000142492354.\n",
            "40/40 [==============================] - 803s 20s/step - loss: 2.0625 - accuracy: 0.6554 - auc: 0.6825 - f1_score: 0.5108 - val_loss: 1.4273 - val_accuracy: 0.6719 - val_auc: 0.7360 - val_f1_score: 0.5200 - lr: 0.0010\n"
          ]
        }
      ]
    },
    {
      "cell_type": "code",
      "source": [
        "# get predictions from the test set\n",
        "\n",
        "pred = vgg19_model.predict(X_test)\n",
        "pred = np.argmax(pred,axis=1)\n",
        "y_test_new = np.argmax(y_test, axis=1)\n",
        "print(classification_report(y_test_new,pred))"
      ],
      "metadata": {
        "colab": {
          "base_uri": "https://localhost:8080/"
        },
        "id": "6H6k2pCN-Ttg",
        "outputId": "f466d030-1602-4f6b-a5af-7eb4e13b8050"
      },
      "execution_count": null,
      "outputs": [
        {
          "output_type": "stream",
          "name": "stdout",
          "text": [
            "              precision    recall  f1-score   support\n",
            "\n",
            "           0       0.23      0.75      0.36       105\n",
            "           1       0.53      0.10      0.17       289\n",
            "\n",
            "    accuracy                           0.27       394\n",
            "   macro avg       0.38      0.43      0.26       394\n",
            "weighted avg       0.45      0.27      0.22       394\n",
            "\n"
          ]
        }
      ]
    },
    {
      "cell_type": "code",
      "source": [
        "# plot the f1 score and loss\n",
        "plot_f1_loss(model3)"
      ],
      "metadata": {
        "colab": {
          "base_uri": "https://localhost:8080/",
          "height": 545
        },
        "id": "tmiTn6Vp-aOE",
        "outputId": "988908aa-2021-4ffe-ca56-0eee52a841ea"
      },
      "execution_count": null,
      "outputs": [
        {
          "output_type": "display_data",
          "data": {
            "text/plain": [
              "<Figure size 432x288 with 1 Axes>"
            ],
            "image/png": "[encoded data removed]"
          },
          "metadata": {
            "needs_background": "light"
          }
        },
        {
          "output_type": "display_data",
          "data": {
            "text/plain": [
              "<Figure size 432x288 with 1 Axes>"
            ],
            "image/png": "[encoded data removed]"
          },
          "metadata": {
            "needs_background": "light"
          }
        }
      ]
    },
    {
      "cell_type": "markdown",
      "source": [
        "## Multiclass Classification \n",
        "\n",
        "*   Pituitary\n",
        "*   Glioma\n",
        "*   Meningioma\n",
        "*   No tumor\n",
        "\n",
        "\n",
        "\n"
      ],
      "metadata": {
        "id": "0mksejsaw6Zr"
      }
    },
    {
      "cell_type": "code",
      "source": [
        "# y label encoding \n",
        "\n"
      ],
      "metadata": {
        "id": "CSHmkuWhsHu3"
      },
      "execution_count": null,
      "outputs": []
    }
  ],
  "metadata": {
    "kernelspec": {
      "display_name": "Python 3",
      "language": "python",
      "name": "python3"
    },
    "language_info": {
      "codemirror_mode": {
        "name": "ipython",
        "version": 3
      },
      "file_extension": ".py",
      "mimetype": "text/x-python",
      "name": "python",
      "nbconvert_exporter": "python",
      "pygments_lexer": "ipython3",
      "version": "3.7.7"
    },
    "colab": {
      "name": "code.ipynb",
      "provenance": []
    },
    "gpuClass": "standard",
    "accelerator": "GPU"
  },
  "nbformat": 4,
  "nbformat_minor": 0
}